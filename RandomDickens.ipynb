{
 "cells": [
  {
   "cell_type": "code",
   "execution_count": 1,
   "metadata": {},
   "outputs": [],
   "source": [
    "import pandas as pd\n",
    "\n",
    "import glob as glob\n",
    "import random\n",
    "import re"
   ]
  },
  {
   "cell_type": "code",
   "execution_count": 80,
   "metadata": {},
   "outputs": [],
   "source": [
    "class WhatTheDickens(object):\n",
    "    \n",
    "    def __init__(self, fileList, ngram=3):\n",
    "        self.word_dict = {}\n",
    "        self.gram_size=ngram\n",
    "        self.train(fileList)\n",
    "        \n",
    "\n",
    "    def train(self, fileList):\n",
    "        for file in fileList:\n",
    "            file_txt = open(file, encoding='utf8').read()\n",
    "            \n",
    "            # Get rid of most of the punctuation.\n",
    "            file_txt = re.sub('[\\\\\\\\/:*?\"<>|\";,\\'\\\"`\\{\\}\\[\\]\\(\\)]', '', file_txt)\n",
    "            file_txt = file_txt.replace('-', ' ')\n",
    "            file_txt = file_txt.replace(u'\\u2018', '')\n",
    "            file_txt = file_txt.replace(u'\\u2019', '')\n",
    "            file_txt = file_txt.replace(u'\\u201c', '')\n",
    "            file_txt = file_txt.replace(u'\\u201d', '')\n",
    "            file_txt = file_txt.replace('.', ' .')\n",
    "            file_split = file_txt.lower().split()\n",
    "\n",
    "            nGramList = self.make_ngram(file_split, self.gram_size)\n",
    "            for word_tuple in nGramList:\n",
    "                #print(word_tuple)\n",
    "                #print(word_tuple[:-1], type(word_tuple[:-1]))\n",
    "                if word_tuple[:-1] in self.word_dict.keys():\n",
    "                    self.word_dict[tuple(word_tuple[:-1])].append(word_tuple[-1])\n",
    "                else:\n",
    "                    self.word_dict[tuple(word_tuple[:-1])] = [word_tuple[-1]]\n",
    "                    \n",
    "    def createSentence(self):\n",
    "        first_words = random.choice(list(self.word_dict.keys()))\n",
    "        chain = list(first_words)\n",
    "        \n",
    "        word=''\n",
    "        while word != '.':\n",
    "            word = random.choice(self.word_dict[tuple(chain[-(self.gram_size-1):])])\n",
    "            chain.append(word)\n",
    "        \n",
    "        chain[0] = (chain[0]).capitalize()\n",
    "        chain = ' '.join(chain)\n",
    "        chain= chain.replace(' .','.')\n",
    "        return chain\n",
    "        \n",
    "        \n",
    "    def createParagraph(self, sentences=5):\n",
    "        if sentences==0:\n",
    "            return ''\n",
    "        else:\n",
    "            return ' '.join([self.createSentence(), self.createParagraph(sentences=sentences-1)])\n",
    "\n",
    "    def createText(self, paragraphs, sentences=5):\n",
    "        if paragraphs==0:\n",
    "            return ''\n",
    "        else:\n",
    "            return self.createParagraph(sentences=sentences)+'\\n\\n'+ self.createText(paragraphs=paragraphs-1, sentences=sentences)\n",
    "        \n",
    "    def make_ngram(self,corpus, n=3):\n",
    "        '''\n",
    "        Returns each ngram in document\n",
    "        '''\n",
    "        for i in range(len(corpus)-n+1):\n",
    "            words=[]\n",
    "            for j in range(n):\n",
    "                words.append(corpus[i+j])                                         \n",
    "            yield (tuple(words))\n",
    "            \n",
    "    def most_likely_words(self, priorNgram):\n",
    "        word_df = pd.DataFrame(self.word_dict[priorNgram], columns=['word'])\n",
    "        word_df['count'] = 1\n",
    "        word_df = word_df.groupby('word').count()\n",
    "        total_words = word_df['count'].sum()\n",
    "        word_df['probability'] = round(word_df['count']/total_words, 3)\n",
    "        \n",
    "        word_df.sort_values(by='count', ascending=False,  inplace=True)\n",
    "        print(word_df.head(10))\n",
    "        \n"
   ]
  },
  {
   "cell_type": "code",
   "execution_count": 166,
   "metadata": {
    "scrolled": false
   },
   "outputs": [],
   "source": [
    "wtd = WhatTheDickens(glob.glob('./texts/*.txt'),5)"
   ]
  },
  {
   "cell_type": "code",
   "execution_count": 169,
   "metadata": {},
   "outputs": [],
   "source": [
    "#wtd = WhatTheDickens(glob.glob('./texts/*.txt'))\n",
    "\n",
    "def demonstration(word1='', word2=''):\n",
    "    ngrams = wtd.gram_size\n",
    "    \n",
    "    if word1=='':\n",
    "        chain = list(random.choice(list(wtd.word_dict.keys())))\n",
    "    else:\n",
    "        chain=[word1, word2]\n",
    "        \n",
    "    #yield(' '.join(chain))    \n",
    "    \n",
    "    while True:\n",
    "        print(' '.join(chain),'\\n\\n\\n')\n",
    "        display(wtd.most_likely_words(tuple(chain[-(ngrams-1):])))\n",
    "        \n",
    "        word = random.choice(wtd.word_dict[tuple(chain[-(ngrams-1):])])\n",
    "        chain.append(word)\n",
    "        yield()\n",
    "        \n",
    "x = demonstration()"
   ]
  },
  {
   "cell_type": "code",
   "execution_count": 292,
   "metadata": {
    "scrolled": false
   },
   "outputs": [
    {
     "name": "stdout",
     "output_type": "stream",
     "text": [
      "restlessly from place to place and debar her from any other associates than those with whom he had to deal with he carried his passion of claiming acquaintance with everybody to the most immoderate length . he had rather a large establishment there accompanied by an equal number of con su mars approaching the house with a little scream of astonishment . my dear i havent one! not one well! perhaps one said bella . i am not listening said the dressmaker . what do you say mr . fogg i say precisely what you say replied fogg with a smile of triumph . when your brother said mr . brownlow and enclosed in a few short lines to you with an intimation on the cover \n",
      "\n",
      "\n",
      "\n",
      "      count  probability\n",
      "word                    \n",
      "of        1          1.0\n"
     ]
    },
    {
     "data": {
      "text/plain": [
       "None"
      ]
     },
     "metadata": {},
     "output_type": "display_data"
    },
    {
     "data": {
      "text/plain": [
       "()"
      ]
     },
     "execution_count": 292,
     "metadata": {},
     "output_type": "execute_result"
    }
   ],
   "source": [
    "next(x)"
   ]
  },
  {
   "cell_type": "code",
   "execution_count": null,
   "metadata": {},
   "outputs": [],
   "source": []
  },
  {
   "cell_type": "code",
   "execution_count": null,
   "metadata": {},
   "outputs": [],
   "source": []
  }
 ],
 "metadata": {
  "kernelspec": {
   "display_name": "Python 3",
   "language": "python",
   "name": "python3"
  },
  "language_info": {
   "codemirror_mode": {
    "name": "ipython",
    "version": 3
   },
   "file_extension": ".py",
   "mimetype": "text/x-python",
   "name": "python",
   "nbconvert_exporter": "python",
   "pygments_lexer": "ipython3",
   "version": "3.7.1"
  }
 },
 "nbformat": 4,
 "nbformat_minor": 2
}
