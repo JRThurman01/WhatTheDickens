{
 "cells": [
  {
   "cell_type": "code",
   "execution_count": 1,
   "metadata": {},
   "outputs": [],
   "source": [
    "import glob as glob\n",
    "import random\n",
    "import re"
   ]
  },
  {
   "cell_type": "code",
   "execution_count": 7,
   "metadata": {},
   "outputs": [],
   "source": [
    "class WhatTheDickens(object):\n",
    "    \n",
    "    def __init__(self, fileList, ngram=3):\n",
    "        self.word_dict = {}\n",
    "        self.train(fileList)\n",
    "\n",
    "    def train(self, fileList):\n",
    "        for file in fileList:\n",
    "            file_txt = open(file, encoding='utf8').read()\n",
    "            \n",
    "            # Get rid of most of the punctuation.\n",
    "            file_txt = re.sub('[\\\\\\\\/:*?\"<>|\";,\\'\\\"`\\{\\}\\[\\]\\(\\)]', '', file_txt)\n",
    "            file_txt = file_txt.replace('-', ' ')\n",
    "            file_txt = file_txt.replace(u'\\u2018', '')\n",
    "            file_txt = file_txt.replace(u'\\u2019', '')\n",
    "            file_txt = file_txt.replace(u'\\u201c', '')\n",
    "            file_txt = file_txt.replace(u'\\u201d', '')\n",
    "            file_txt = file_txt.replace('.', ' .')\n",
    "            file_split = file_txt.lower().split()\n",
    "\n",
    "            nGram = self.make_ngram(file_split)\n",
    "            for word_1, word_2, word_3 in nGram:\n",
    "                if (word_1, word_2) in self.word_dict.keys():\n",
    "                    self.word_dict[(word_1, word_2)].append(word_3)\n",
    "                else:\n",
    "                    self.word_dict[(word_1, word_2)] = [word_3]\n",
    "                    \n",
    "    \n",
    "    def createSentence(self):\n",
    "        first_words = random.choice(list(self.word_dict.keys()))\n",
    "        chain = list(first_words)\n",
    "        \n",
    "        word=''\n",
    "        while word != '.':\n",
    "            word = random.choice(self.word_dict[tuple(chain[-2:])])\n",
    "            chain.append(word)\n",
    "        \n",
    "        chain[0] = (chain[0]).capitalize()\n",
    "        chain = ' '.join(chain)\n",
    "        chain= chain.replace(' .','.')\n",
    "        return chain\n",
    "        \n",
    "        \n",
    "    def createParagraph(self, sentences=5):\n",
    "        if sentences==0:\n",
    "            return ''\n",
    "        else:\n",
    "            return ' '.join([self.createSentence(), self.createParagraph(sentences=sentences-1)])\n",
    "\n",
    "    def createText(self, paragraphs, sentences=5):\n",
    "        if paragraphs==0:\n",
    "            return ''\n",
    "        else:\n",
    "            return self.createParagraph(sentences=sentences)+'\\n\\n'+ self.createText(paragraphs=paragraphs-1, sentences=sentences)\n",
    "        \n",
    "    def make_ngram(self,corpus, n=3):\n",
    "        '''\n",
    "        Returns each 3gram in document\n",
    "        '''\n",
    "        for i in range(len(corpus)-2):\n",
    "            yield (corpus[i], corpus[i+1], corpus[i+2])\n"
   ]
  },
  {
   "cell_type": "code",
   "execution_count": 8,
   "metadata": {
    "scrolled": false
   },
   "outputs": [],
   "source": [
    "wtd = WhatTheDickens(glob.glob('./texts/*.txt'))"
   ]
  },
  {
   "cell_type": "code",
   "execution_count": 9,
   "metadata": {},
   "outputs": [
    {
     "name": "stdout",
     "output_type": "stream",
     "text": [
      "Escape you. Common many things. Loud double knocks administered with the basest meanness. Mind says fixem winking to the curse that is very sorry i have taken a deal of good appearance short blew a blast of air. Hollower form and laid it on fire. Extreme debility now observes from his martial legs phil on one side the strange nature perhaps rosa dartle haughtily i know you didnt mind what security have i done it so falls out of that. Hairs breadth of choice. Its philosophical and the dismal passage in his eye intently fixed upon her for me to say scaled the wall and going off in rooms. Of exclusiveness the leveller of pride she felt as if there be at a funeral is coming back. See sixty five again nor did they yes. \n",
      "\n",
      "The arrowy rhone at the inside observing that from the firm had in some confusion at being precluded from giving offence. Forget dora. Complete your toilet must be gratifying to my knowledge. Back yards and holding on here miss none older than herself who sat as composed and contented himself with the remains of passages new faces she may be highly amused by this lodger he never sought out a milder growl than usual of what was i have not taken him in good weather but not worth the outlay old lobbs but i think the better. Pulls at the foot of the hark away pulling up the belleville doors with candles in sconces on the previous one the cleverest and most lamentable page in the streets were as neat and appropriate designation when he entered a long time we shall never be used if you could! poor idiot! he really was the son was swallowed up in that one. Best fellows in their hands and that supposing it should be an inscrutable being quite plain agnes liking him so far removed from power they were silent and meditative for a moment. All haughty to leave the muddle just wheer tis. Real wife soon she would see her on his honest indignation my dear fellow if he were discussing as to what i am. And hustling that i should think you once again immured in his official capacity the parochial beadle to morrow and in their nature something congenial in their minds at rest. Would count up to his breast the miniature of a crutch headed stick who was perpetually on the next room sat down by the full morality of what he said something to say this last time. \n",
      "\n",
      "The bass like a little way but as it was called the poll in droves by lord decimus being an indispensable preliminary to the young lady who has a dismal vein i did not set afire to day too exclaimed the other justice. Dear man cried hugh. Hope shell have that comfort in his trot and i can be so good of it since it was not a time rendered me. Old stool yet occupied then with the last feeble echo of one of its accidental discovery by miss dorrit. Class opportunity had developed her sailing qualities. Crying what will you turn so pale on their journey and seek what i am not poor that you can do. Temper living idly on the back of it but as he warmed with a special destiny in the terrace to ransom him but his servants in it than his obstinacy job trotter gradually releasing mr. In its turn. Windmill street in stately excogitation of this gentleman is to do it or it easily depend upon that arm was a foreigner if i tried in st. You aunt said i as long a time ruminating on what he would oblige her by fits but those are behind ye those two non commissioned officers varying from fifteen to twenty pound a year! hem! croaked a strange specimen of its place this little incident outside the united metropolitan improved hot muffin and crumpet baking and punctual in business and would come back to disgrace it. \n",
      "\n",
      "Them she devil that only i possessed fifteen pounds odd shillings including interest at fifty per cent premium before noon and the backs of half past one when they went along. City jangling. Letter said mr. Truth before very long whiff out of sight for when it snowed so fast went i couldnt hope to be merry and he invited to seat himself on the occasion of feasting and revelry except the baby took their leader. Distempered horror of mr. Baiting strings of the scadgerses and connexion by matrimony of late and when he awoke to a part of this mistress of the old bailey in all doctrines of political existence to the three places in the direction which mr abels articles. Names blackpool aint it a kind of doze by his descendant. Buried no more have removed all references to project gutenberg tm collection will remain freely available for generations to come more frequently giving him many and such a number of byways. Commodity for this action would be a learned and philosophical influence on his stool to work but too plain. Obey miss havisham. \n",
      "\n",
      "Least intelligent. Cardinal of him. John interrupted mrs. Ipswich! said the new king with a look of dislike but that the committees are now promenading outside in the unblighted hopes and rising as if nothing else with their battle axes they cut off himself leaving the old man as if they were double the age. Asunder it may or may not be quite sure that in my old home now did with great spirit. Place—with water all his practice which has no thoroughfare in any one roof of the plate and included several heavy articles weighing ever so many and as if he failed in this strain of sorrowful regret and interest of the corner generally the case of innocence considering what he wished mrs. Lulling you to hope that you want with your good opinion and if mr flintwinch here will mistake her for my good fellow! manly fellow! and looking out into the temple stairs and knocked him down. To field and effectually routed the kings theatre intended opening for a period in the hall having said thus much will still pervading the air immediately withdrew. Lighted candles images and so came back to the marrow with some confusion certainly my dear. This effectual lowering of his companions who knew he would on no fewer than nine hundred pounds together to the streets were full sir ill stake my life and animation and rapidity of my young family and in the hole in the midst of his chair and stood upon its cushioned ledge and to lighten the time and of his age with a young and graceful as any of them all three in the course of two old women with naked feet into them and all the light. \n",
      "\n",
      "Once proceed with my own right hand holds it as yes thomas yes is the london daily papers in something of her. Fear much as possible. Better loosen it for it by what i am afraid it would be clinging to his master too much talking before i begin to make donations to the performance that he had my choice. Countenance appeared to be much happier creature on the coach and fell with a plentiful shower of burning rum and water tremble or threaten for fancy might have married you know what a pity isnt it a part either in february. Lower animal to his watch are ready to receive any private soldiers letter published in the world to hear now that youve laid me under those delays and evasions as why when these were distractions almost too clever to live in! about the serpent. Suitable and fortunate man had put me into her eyes out maam if he had laid aside but clean and with no hope on either side. Betaken himself to peep into the compassionate wife of his life to keep it. Feigning emotion was visible against the king thought of you. Bowed deferentially to sir a dear the best gentlemen of muggleton is a strange one. Orators side before the chancellor of the other prisoners in london than elsewhere to her i was gone through a little table on the darkness before her truly and ever or am i ever forget as you interposed the busy streets and of miss abbeys looking in at the ship upon the carriage next behind but felt it hovering near it i says to me that he drank again and died the day began to dine here every evening to your best wishes and encouragement to believe were once two brothers moved slowly forward to it or having the freedom of its standing by him. \n",
      "\n",
      "Possible as exhausted natur may manage almost as if they had been uttered. Memento mori admonishing beholders of the richest landscapes that bounteous nature ever spread to quiet endurance. Conclusion wardle slapped mr. Express to dover to join him in the lottery station themselves at a short distance before them like medicine bottles or whether a gate. Little gradgrind had ever appeared in cloisterham. English river but on the steps and some other way sometimes i thought it safest not to be provided for dining. It lonelier instead of going in yet and the solitude remained unbroken. This natural division of labour and her disposition. As liberal to me. Brilliant are all so pretty and commodious provision is made for me i was on the altar mr. \n",
      "\n",
      "Dear ladies! said mr. Traddles gently. Respects was well as fast as his figure whether he has told me. Testify to the happiness of society. Straightway followed by the board being now penniless and admonished by mr. Snugly off in scrooges office. Became them well. Pieces every moment to take her with that feature. Weant get bread and cheese. Sky i hinted so. \n",
      "\n",
      "Admonition. we waited for their dreadful duties to copy the old bastille couldnt keep my fatherless boy! i thought. Your parents he took me to climb up to the project gutenberg tm work in the time sir said the jew stamping furiously on the fly stopped at length however we think alike. Interpreters hand and glancing at barnaby and hugh dumb but kept tumbling out into the dry brambles on either hand and sat down again and that if a bond he had been the grief of her innocence of the rioters having so little that is to forget. In alive gave more delight to strasbourg where i saw in the corner and take possession when herbert murmured in sorrowful accents my sister was dead. Turnkey i wont allude to mew says the constable on duty over them all mr. Individuals to a girl and forgotten he went on makes no difference the darkness where you are wrong miss summerson he looks at mr boffins secretary. Loitering attracted their attention to these interrogations mr. Did incline towards prewentions. Riderhood observing him hummed a tune by ear volunteer a full hour and took the hand and crying as he would have thought me still more when he replied a lady mayoress might have been quite so tight to his tea with a basket in cold boiled beef and half out of himself here and rode another steeple chase went back intending to keep my secret a great coat on and about joes coming. Of walworth left the old articles of agreement in that yard as any woman who brought her bonnet back on this bad beginning of this exemplary person derived its highest and when it was all gone out of bed or his chin was to bring out your results with evident pleasure announcing to the fullest explanation compensation and restitution are your orders. \n",
      "\n",
      "Uncle said mrs. Visible alteration of circumstances. Personage but there ant a fit of trembling like one of the ceremonies of ordinary minds. Form some judgment of this kind of terrace on the part of the case i may say of it replied mr. Misfortunes gloating over them what else really said flora that in spite of your temple of state was feverish this one sunday afternoon and a conversation with the air there is the matter where im spoke to anybody else. Their chins to keep on bowing in the paper i mean changes for the interment follows too speedily after death would kill their father. Crisparkle septimus because six little oil grinding with the help that sir interrupted mr venus retorted wegg no sir i sneezed almost as many as six foot three asks mr wegg named eight. Gleam had driven everything else and not to admire and to find a use for thee! what could clennam say after one. Officer every member of parliament. Manufacture a night bell at eight nine ten. \n",
      "\n",
      "\n"
     ]
    }
   ],
   "source": [
    "print(wtd.createText(10,10))"
   ]
  }
 ],
 "metadata": {
  "kernelspec": {
   "display_name": "Python 3",
   "language": "python",
   "name": "python3"
  },
  "language_info": {
   "codemirror_mode": {
    "name": "ipython",
    "version": 3
   },
   "file_extension": ".py",
   "mimetype": "text/x-python",
   "name": "python",
   "nbconvert_exporter": "python",
   "pygments_lexer": "ipython3",
   "version": "3.7.1"
  }
 },
 "nbformat": 4,
 "nbformat_minor": 2
}
